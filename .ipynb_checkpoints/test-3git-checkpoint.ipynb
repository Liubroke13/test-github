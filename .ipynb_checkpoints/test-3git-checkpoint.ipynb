{
 "cells": [
  {
   "cell_type": "markdown",
   "id": "1abfa08c-6d1e-41c2-a9c4-a2f1f54f2c06",
   "metadata": {},
   "source": [
    "哭了都\n"
   ]
  }
 ],
 "metadata": {
  "kernelspec": {
   "display_name": "Python 3 (ipykernel)",
   "language": "python",
   "name": "python3"
  },
  "language_info": {
   "codemirror_mode": {
    "name": "ipython",
    "version": 3
   },
   "file_extension": ".py",
   "mimetype": "text/x-python",
   "name": "python",
   "nbconvert_exporter": "python",
   "pygments_lexer": "ipython3",
   "version": "3.11.9"
  }
 },
 "nbformat": 4,
 "nbformat_minor": 5
}
